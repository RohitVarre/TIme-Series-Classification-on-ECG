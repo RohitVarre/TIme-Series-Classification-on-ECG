{
 "cells": [
  {
   "cell_type": "code",
   "execution_count": 1,
   "metadata": {},
   "outputs": [
    {
     "name": "stderr",
     "output_type": "stream",
     "text": [
      "23/05/11 20:56:48 WARN Utils: Your hostname, filip.local resolves to a loopback address: 127.0.0.1; using 10.15.142.27 instead (on interface en0)\n",
      "23/05/11 20:56:48 WARN Utils: Set SPARK_LOCAL_IP if you need to bind to another address\n",
      "WARNING: An illegal reflective access operation has occurred\n",
      "WARNING: Illegal reflective access by org.apache.spark.unsafe.Platform (file:/Users/filip/miniconda3/envs/big2/lib/python3.9/site-packages/pyspark/jars/spark-unsafe_2.12-3.2.1.jar) to constructor java.nio.DirectByteBuffer(long,int)\n",
      "WARNING: Please consider reporting this to the maintainers of org.apache.spark.unsafe.Platform\n",
      "WARNING: Use --illegal-access=warn to enable warnings of further illegal reflective access operations\n",
      "WARNING: All illegal access operations will be denied in a future release\n",
      "Using Spark's default log4j profile: org/apache/spark/log4j-defaults.properties\n",
      "Setting default log level to \"WARN\".\n",
      "To adjust logging level use sc.setLogLevel(newLevel). For SparkR, use setLogLevel(newLevel).\n",
      "23/05/11 20:56:48 WARN NativeCodeLoader: Unable to load native-hadoop library for your platform... using builtin-java classes where applicable\n",
      "23/05/11 20:56:48 WARN Utils: Service 'SparkUI' could not bind on port 4040. Attempting port 4041.\n"
     ]
    }
   ],
   "source": [
    "from pyspark.sql import SparkSession\n",
    "\n",
    "spark = SparkSession \\\n",
    "    .builder \\\n",
    "    .master(\"local[*]\") \\\n",
    "    .config(\"spark.driver.memory\", \"15g\") \\\n",
    "    .appName(\"ECG\") \\\n",
    "    .getOrCreate()\n",
    "\n",
    "sc = spark.sparkContext"
   ]
  },
  {
   "cell_type": "code",
   "execution_count": 2,
   "metadata": {},
   "outputs": [],
   "source": [
    "import math\n",
    "\n",
    "oversampling = True\n",
    "train_part_num = 10\n",
    "test_part_num = 1\n",
    "k = 1\n",
    "in_k = max(math.floor(k/train_part_num), 1)"
   ]
  },
  {
   "cell_type": "code",
   "execution_count": 3,
   "metadata": {
    "application/vnd.databricks.v1+cell": {
     "cellMetadata": {
      "byteLimit": 2048000,
      "rowLimit": 10000
     },
     "inputWidgets": {},
     "nuid": "2614e3b7-b304-4acd-abb6-88fc73a1a1cf",
     "showTitle": false,
     "title": ""
    }
   },
   "outputs": [],
   "source": [
    "if not oversampling:   \n",
    "    # df = spark.read.csv(\"abfss://team6@sauondbrwebigdatalrs1.dfs.core.windows.net/ECG5000/ECG5000_TRAIN.tsv\",sep=r'\\t', header=True)\n",
    "    train_df = spark.read.csv(\"../data/ECG5000/ECG5000_TRAIN.tsv\", sep='\\t', header=False)\n",
    "    test_df = spark.read.csv(\"../data/ECG5000/ECG5000_TEST.tsv\" ,sep='\\t', header=False)"
   ]
  },
  {
   "cell_type": "code",
   "execution_count": 4,
   "metadata": {},
   "outputs": [],
   "source": [
    "from pyspark.sql.functions import rand\n",
    "\n",
    "if not oversampling:   \n",
    "    train_df = train_df.orderBy(rand()) #.limit(100)\n",
    "    test_df = test_df.orderBy(rand()) #.limit(50)"
   ]
  },
  {
   "cell_type": "code",
   "execution_count": 5,
   "metadata": {},
   "outputs": [],
   "source": [
    "from pyspark.sql.functions import col\n",
    "\n",
    "if not oversampling:   \n",
    "    train_df = train_df.withColumnRenamed(\"_c0\", \"Class\")\n",
    "    test_df = test_df.withColumnRenamed(\"_c0\", \"Class\")\n",
    "\n",
    "    for col_name in train_df.columns[1:]:\n",
    "        if col_name != \"Class\":\n",
    "            train_df = train_df.withColumn(col_name, col(col_name).cast(\"float\"))\n",
    "\n",
    "    for col_name in test_df.columns[1:]:\n",
    "        if col_name != \"Class\":\n",
    "            test_df = test_df.withColumn(col_name, col(col_name).cast(\"float\"))\n",
    "\n",
    "    # Append the rows from test_df to train_df\n",
    "    merged_df = train_df.union(test_df)"
   ]
  },
  {
   "cell_type": "code",
   "execution_count": 7,
   "metadata": {},
   "outputs": [
    {
     "data": {
      "text/plain": [
       "6300"
      ]
     },
     "execution_count": 7,
     "metadata": {},
     "output_type": "execute_result"
    }
   ],
   "source": [
    "if oversampling:\n",
    "    merged_df = spark.read.csv(\"../data/ECG5000/ECG5000_Oversampled.csv\", header=True)\n",
    "    merged_df = merged_df.orderBy(rand(seed=42))\n",
    "\n",
    "# Show the resulting dataframe\n",
    "merged_df.count()"
   ]
  },
  {
   "cell_type": "code",
   "execution_count": null,
   "metadata": {},
   "outputs": [],
   "source": [
    "merged_df = merged_df.limit(1000)"
   ]
  },
  {
   "cell_type": "code",
   "execution_count": null,
   "metadata": {},
   "outputs": [],
   "source": [
    "# Define the split ratio\n",
    "train_ratio = 0.7\n",
    "test_ratio = 0.3\n",
    "\n",
    "# Split the data into train and test sets\n",
    "train_df, test_df = merged_df.randomSplit([train_ratio, test_ratio], seed=346)"
   ]
  },
  {
   "cell_type": "code",
   "execution_count": null,
   "metadata": {},
   "outputs": [
    {
     "name": "stderr",
     "output_type": "stream",
     "text": [
      "[Stage 460:==================================>                      (3 + 2) / 5]\r"
     ]
    },
    {
     "name": "stdout",
     "output_type": "stream",
     "text": [
      "+-----+-----+\n",
      "|Class|count|\n",
      "+-----+-----+\n",
      "|    1| 2069|\n",
      "|    2| 1241|\n",
      "|    3|  414|\n",
      "|    5|  285|\n",
      "|    4|  429|\n",
      "+-----+-----+\n",
      "\n"
     ]
    },
    {
     "name": "stderr",
     "output_type": "stream",
     "text": [
      "                                                                                \r"
     ]
    }
   ],
   "source": [
    "train_df.groupBy(\"Class\").count().show()"
   ]
  },
  {
   "cell_type": "code",
   "execution_count": null,
   "metadata": {},
   "outputs": [
    {
     "name": "stderr",
     "output_type": "stream",
     "text": [
      "                                                                                \r"
     ]
    },
    {
     "data": {
      "text/plain": [
       "4438"
      ]
     },
     "execution_count": 165,
     "metadata": {},
     "output_type": "execute_result"
    }
   ],
   "source": [
    "train_df.count()"
   ]
  },
  {
   "cell_type": "code",
   "execution_count": null,
   "metadata": {},
   "outputs": [],
   "source": [
    "# train_df.cache()\n",
    "# test_df.cache()"
   ]
  },
  {
   "cell_type": "code",
   "execution_count": null,
   "metadata": {
    "application/vnd.databricks.v1+cell": {
     "cellMetadata": {
      "byteLimit": 2048000,
      "rowLimit": 10000
     },
     "inputWidgets": {},
     "nuid": "7116dd64-515e-4879-8051-fe1bdca75b6c",
     "showTitle": false,
     "title": ""
    }
   },
   "outputs": [],
   "source": [
    "# for df in [train_df, test_df]:\n",
    "#     duplicates_df = df.dropDuplicates()\n",
    "#     num_duplicates = df.count() - duplicates_df.count()\n",
    "#     if num_duplicates > 0:\n",
    "#         print(\"There are duplicate rows in the DataFrame.\")\n",
    "#     else:\n",
    "#         print(\"There are no duplicate rows in the DataFrame.\")"
   ]
  },
  {
   "cell_type": "code",
   "execution_count": null,
   "metadata": {
    "application/vnd.databricks.v1+cell": {
     "cellMetadata": {},
     "inputWidgets": {},
     "nuid": "6dfcd683-9f9a-4bbc-b9ab-cf360a3ee761",
     "showTitle": false,
     "title": ""
    }
   },
   "outputs": [],
   "source": [
    "import pyspark.sql.functions as F\n",
    "from sklearn.neighbors import KNeighborsClassifier\n",
    "import numpy as np\n",
    "import pandas as pd"
   ]
  },
  {
   "cell_type": "code",
   "execution_count": null,
   "metadata": {},
   "outputs": [],
   "source": [
    "train_rdd = train_df.rdd.repartition(train_part_num)\n",
    "column_names = merged_df.columns"
   ]
  },
  {
   "cell_type": "code",
   "execution_count": null,
   "metadata": {},
   "outputs": [],
   "source": [
    "def toPandas_partition(instances):\n",
    "    panda_df = pd.DataFrame(columns = column_names)      # using the global variable\n",
    "    \n",
    "    for instance in instances:  # each instance is of Row type\n",
    "        panda_df = pd.concat([panda_df, pd.DataFrame([instance.asDict()])], ignore_index=True)\n",
    "  \n",
    "    return [panda_df]\n",
    "\n",
    "rdd_pandas = train_rdd.mapPartitions(toPandas_partition)"
   ]
  },
  {
   "cell_type": "code",
   "execution_count": null,
   "metadata": {},
   "outputs": [
    {
     "name": "stderr",
     "output_type": "stream",
     "text": [
      "                                                                                \r"
     ]
    }
   ],
   "source": [
    "import random\n",
    "\n",
    "def build_model(partition):\n",
    "\n",
    "    knn = KNeighborsClassifier(n_neighbors=in_k, metric='euclidean')\n",
    "    \n",
    "    X_train = partition.drop('Class', axis=1)\n",
    "    y_train = partition['Class']\n",
    "    \n",
    "    model = knn.fit(X_train, y_train)\n",
    "\n",
    "    return model\n",
    "\n",
    "model = rdd_pandas.map(build_model).collect()"
   ]
  },
  {
   "cell_type": "code",
   "execution_count": null,
   "metadata": {},
   "outputs": [],
   "source": [
    "test_rdd  = test_df.rdd.repartition(test_part_num)\n",
    "test_rdd_pandas = test_rdd.mapPartitions(toPandas_partition)"
   ]
  },
  {
   "cell_type": "code",
   "execution_count": null,
   "metadata": {},
   "outputs": [],
   "source": [
    "def test_classifier(partition):\n",
    "    predictions = []\n",
    "    distances = []\n",
    "    X_test = partition.drop('Class', axis=1)\n",
    "    \n",
    "    for m in model:\n",
    "        _, neighbors = m.kneighbors(X_test)\n",
    "        pred = m.predict(X_test).tolist()\n",
    "        distances.append(neighbors.tolist())\n",
    "        predictions.append(pred)\n",
    "\n",
    "    return predictions, distances\n",
    "\n",
    "def get_majority_vote(predictions):\n",
    "    return max(set(predictions), key=predictions.count)\n",
    "\n",
    "def predict_class(partition):\n",
    "    predictions, distances = test_classifier(partition)\n",
    "    predicted_labels = []\n",
    "\n",
    "    for i in range(len(predictions[0])):\n",
    "        class_votes = []\n",
    "        dist_votes = []\n",
    "        for j in range(len(predictions)):\n",
    "            class_votes.append(predictions[j][i])\n",
    "            dist_votes.append(distances[j][i])\n",
    "\n",
    "        k_nearest = sorted(zip(dist_votes, class_votes), key=lambda x: x[0])[:k]\n",
    "        majority_class = get_majority_vote([x[1] for x in k_nearest])\n",
    "        # print(\"CLASS VOTES:\\n\", class_votes)\n",
    "        # print(\"MAJORITY CLASS:\", majority_class)\n",
    "        predicted_labels.append(majority_class)\n",
    "\n",
    "    return predicted_labels\n",
    "\n",
    "predictions = test_rdd_pandas.map(predict_class).flatMap(lambda x: x)\n"
   ]
  },
  {
   "cell_type": "code",
   "execution_count": null,
   "metadata": {},
   "outputs": [],
   "source": [
    "# def test_classifier(partition):\n",
    "#     predictions = []\n",
    "#     X_test = partition.drop('Class', axis=1)\n",
    "    \n",
    "#     for m in model:\n",
    "#       predictions.append(m.predict(X_test).tolist())\n",
    "\n",
    "#     return predictions\n",
    "\n",
    "# def get_majority_vote(predictions):\n",
    "#     return max(set(predictions), key=predictions.count)\n",
    "\n",
    "# def predict_class(partition):\n",
    "#     predictions = test_classifier(partition)\n",
    "#     predicted_labels = []\n",
    "\n",
    "#     for i in range(len(predictions[0])):\n",
    "#         class_votes = []\n",
    "#         for j in range(len(predictions)):\n",
    "#             class_votes.append(predictions[j][i])\n",
    "\n",
    "#         majority_class = get_majority_vote(class_votes)\n",
    "#         # print(\"CLASS VOTES:\\n\", class_votes)\n",
    "#         # print(\"MAJORITY CLASS:\", majority_class)\n",
    "#         predicted_labels.append(majority_class)\n",
    "\n",
    "#     return predicted_labels\n",
    "\n",
    "# predictions = test_rdd_pandas.map(predict_class).flatMap(lambda x: x)"
   ]
  },
  {
   "cell_type": "code",
   "execution_count": null,
   "metadata": {},
   "outputs": [
    {
     "name": "stderr",
     "output_type": "stream",
     "text": [
      "                                                                                \r"
     ]
    }
   ],
   "source": [
    "y_pred = predictions.collect()"
   ]
  },
  {
   "cell_type": "code",
   "execution_count": null,
   "metadata": {},
   "outputs": [],
   "source": [
    "y_test = test_df.select(\"Class\").collect()"
   ]
  },
  {
   "cell_type": "code",
   "execution_count": null,
   "metadata": {},
   "outputs": [],
   "source": [
    "from pyspark.sql.functions import when, count\n",
    "\n",
    "y_pred_df = spark.createDataFrame([(i,) for i in y_pred], ['prediction'])\n",
    "y_test_df = spark.createDataFrame(y_test, ['Class'])"
   ]
  },
  {
   "cell_type": "code",
   "execution_count": null,
   "metadata": {},
   "outputs": [
    {
     "name": "stdout",
     "output_type": "stream",
     "text": [
      "joined_df:\n"
     ]
    },
    {
     "name": "stderr",
     "output_type": "stream",
     "text": [
      "[Stage 472:=====================>                                   (3 + 5) / 8]\r"
     ]
    },
    {
     "name": "stdout",
     "output_type": "stream",
     "text": [
      "+----------+-----+-----------+\n",
      "|prediction|Class|same_values|\n",
      "+----------+-----+-----------+\n",
      "|         1|    1|          1|\n",
      "|         1|    1|          1|\n",
      "|         1|    1|          1|\n",
      "|         1|    1|          1|\n",
      "|         1|    1|          1|\n",
      "|         1|    1|          1|\n",
      "|         1|    1|          1|\n",
      "|         1|    1|          1|\n",
      "|         1|    1|          1|\n",
      "|         1|    1|          1|\n",
      "|         1|    1|          1|\n",
      "|         1|    1|          1|\n",
      "|         1|    1|          1|\n",
      "|         1|    1|          1|\n",
      "|         1|    1|          1|\n",
      "|         1|    1|          1|\n",
      "|         1|    1|          1|\n",
      "|         1|    1|          1|\n",
      "|         1|    1|          1|\n",
      "|         1|    1|          1|\n",
      "|         1|    1|          1|\n",
      "|         1|    1|          1|\n",
      "|         1|    1|          1|\n",
      "|         1|    1|          1|\n",
      "|         1|    1|          1|\n",
      "|         1|    1|          1|\n",
      "|         1|    1|          1|\n",
      "|         1|    1|          1|\n",
      "|         1|    1|          1|\n",
      "|         1|    1|          1|\n",
      "|         1|    1|          1|\n",
      "|         1|    1|          1|\n",
      "|         1|    1|          1|\n",
      "|         1|    1|          1|\n",
      "|         1|    1|          1|\n",
      "|         1|    1|          1|\n",
      "|         1|    1|          1|\n",
      "|         1|    1|          1|\n",
      "|         1|    1|          1|\n",
      "|         1|    1|          1|\n",
      "|         1|    1|          1|\n",
      "|         1|    1|          1|\n",
      "|         1|    1|          1|\n",
      "|         1|    1|          1|\n",
      "|         1|    1|          1|\n",
      "|         1|    1|          1|\n",
      "|         1|    1|          1|\n",
      "|         1|    1|          1|\n",
      "|         1|    1|          1|\n",
      "|         1|    1|          1|\n",
      "|         1|    1|          1|\n",
      "|         1|    1|          1|\n",
      "|         1|    1|          1|\n",
      "|         1|    1|          1|\n",
      "|         1|    1|          1|\n",
      "|         1|    1|          1|\n",
      "|         1|    1|          1|\n",
      "|         1|    1|          1|\n",
      "|         1|    1|          1|\n",
      "|         1|    1|          1|\n",
      "|         1|    1|          1|\n",
      "|         1|    1|          1|\n",
      "|         1|    1|          1|\n",
      "|         1|    1|          1|\n",
      "|         1|    1|          1|\n",
      "|         1|    1|          1|\n",
      "|         1|    1|          1|\n",
      "|         1|    1|          1|\n",
      "|         1|    1|          1|\n",
      "|         1|    1|          1|\n",
      "|         1|    1|          1|\n",
      "|         1|    1|          1|\n",
      "|         1|    1|          1|\n",
      "|         1|    1|          1|\n",
      "|         1|    1|          1|\n",
      "|         1|    1|          1|\n",
      "|         1|    1|          1|\n",
      "|         1|    1|          1|\n",
      "|         1|    1|          1|\n",
      "|         1|    1|          1|\n",
      "|         1|    1|          1|\n",
      "|         1|    1|          1|\n",
      "|         1|    1|          1|\n",
      "|         1|    1|          1|\n",
      "|         1|    1|          1|\n",
      "|         1|    1|          1|\n",
      "|         1|    1|          1|\n",
      "|         1|    1|          1|\n",
      "|         1|    1|          1|\n",
      "|         1|    1|          1|\n",
      "|         1|    1|          1|\n",
      "|         1|    1|          1|\n",
      "|         1|    1|          1|\n",
      "|         1|    1|          1|\n",
      "|         1|    1|          1|\n",
      "|         1|    1|          1|\n",
      "|         1|    1|          1|\n",
      "|         1|    1|          1|\n",
      "|         1|    1|          1|\n",
      "|         1|    1|          1|\n",
      "+----------+-----+-----------+\n",
      "only showing top 100 rows\n",
      "\n"
     ]
    },
    {
     "name": "stderr",
     "output_type": "stream",
     "text": [
      "                                                                                \r"
     ]
    }
   ],
   "source": [
    "from pyspark.sql.functions import monotonically_increasing_id\n",
    "\n",
    "y_pred_df = y_pred_df.withColumn(\"id\", monotonically_increasing_id())\n",
    "y_test_df = y_test_df.withColumn(\"id\", monotonically_increasing_id())\n",
    "\n",
    "joined_df = y_pred_df.join(y_test_df, \"id\", \"outer\").drop(\"id\")\n",
    "\n",
    "joined_df = joined_df.withColumn('same_values', when(joined_df.prediction == joined_df.Class, 1).otherwise(0))\n",
    "\n",
    "print(\"joined_df:\")\n",
    "joined_df.show(100)"
   ]
  },
  {
   "cell_type": "code",
   "execution_count": null,
   "metadata": {},
   "outputs": [
    {
     "name": "stderr",
     "output_type": "stream",
     "text": [
      "[Stage 477:=================================================>       (7 + 1) / 8]\r"
     ]
    },
    {
     "name": "stdout",
     "output_type": "stream",
     "text": [
      "+----------+-----+\n",
      "|prediction|count|\n",
      "+----------+-----+\n",
      "|         3|  133|\n",
      "|         5|   28|\n",
      "|         1|  916|\n",
      "|         4|   80|\n",
      "|         2|  705|\n",
      "+----------+-----+\n",
      "\n"
     ]
    },
    {
     "name": "stderr",
     "output_type": "stream",
     "text": [
      "                                                                                \r"
     ]
    }
   ],
   "source": [
    "joined_df.groupBy(\"prediction\").count().show()"
   ]
  },
  {
   "cell_type": "code",
   "execution_count": null,
   "metadata": {},
   "outputs": [
    {
     "name": "stderr",
     "output_type": "stream",
     "text": [
      "[Stage 486:=======>                                                 (1 + 7) / 8]\r"
     ]
    },
    {
     "name": "stdout",
     "output_type": "stream",
     "text": [
      "82.81% of rows have the same label and prediction.\n"
     ]
    },
    {
     "name": "stderr",
     "output_type": "stream",
     "text": [
      "                                                                                \r"
     ]
    }
   ],
   "source": [
    "percentage_same_values = joined_df.agg({'same_values': 'mean'}).collect()[0][0] * 100\n",
    "\n",
    "print(f\"{percentage_same_values:.2f}% of rows have the same label and prediction.\")"
   ]
  },
  {
   "cell_type": "code",
   "execution_count": null,
   "metadata": {},
   "outputs": [
    {
     "name": "stderr",
     "output_type": "stream",
     "text": [
      "[Stage 494:==============>  (7 + 1) / 8][Stage 495:========>        (4 + 4) / 8]\r"
     ]
    },
    {
     "name": "stdout",
     "output_type": "stream",
     "text": [
      "F1 score: 0.80\n"
     ]
    },
    {
     "name": "stderr",
     "output_type": "stream",
     "text": [
      "                                                                                \r"
     ]
    }
   ],
   "source": [
    "from pyspark.ml.evaluation import MulticlassClassificationEvaluator\n",
    "from pyspark.sql.types import DoubleType\n",
    "from pyspark.ml.feature import StringIndexer\n",
    "from pyspark.sql.functions import col\n",
    "\n",
    "indexed_df = joined_df.withColumn(\"ClassIndex\", col(\"Class\").cast(\"integer\"))\n",
    "\n",
    "# Cast the prediction column to DoubleType\n",
    "indexed_df = indexed_df.withColumn(\"prediction\", col(\"prediction\").cast(\"double\"))\n",
    "\n",
    "# Compute F1 score\n",
    "evaluator = MulticlassClassificationEvaluator(predictionCol=\"prediction\", labelCol=\"ClassIndex\", metricName=\"f1\")\n",
    "f1_score = evaluator.evaluate(indexed_df)\n",
    "print(f\"F1 score: {f1_score:.2f}\")"
   ]
  },
  {
   "cell_type": "code",
   "execution_count": null,
   "metadata": {},
   "outputs": [
    {
     "name": "stderr",
     "output_type": "stream",
     "text": [
      "                                                                                \r"
     ]
    }
   ],
   "source": [
    "from pyspark.sql.functions import when\n",
    "from pyspark.ml.feature import StringIndexer\n",
    "from pyspark.mllib.evaluation import MulticlassMetrics\n",
    "import matplotlib.pyplot as plt\n",
    "\n",
    "indexed_df = indexed_df.withColumn(\"ClassIndexDb\", col(\"ClassIndex\").cast(\"double\"))\n",
    "\n",
    "# Calculate the confusion matrix\n",
    "predictions_and_labels = indexed_df.select([\"prediction\", \"ClassIndexDb\"]).rdd\n",
    "metrics = MulticlassMetrics(predictions_and_labels)\n",
    "\n",
    "confusion_matrix = metrics.confusionMatrix().toArray()\n",
    "\n",
    "# Define list of class labels\n",
    "classes = ['1', '2', '3', '4', '5']"
   ]
  },
  {
   "cell_type": "code",
   "execution_count": null,
   "metadata": {},
   "outputs": [
    {
     "data": {
      "image/png": "[encoded data removed]",
      "text/plain": [
       "<Figure size 640x480 with 2 Axes>"
      ]
     },
     "metadata": {},
     "output_type": "display_data"
    }
   ],
   "source": [
    "# Plot the confusion matrix\n",
    "fig, ax = plt.subplots()\n",
    "im = ax.imshow(confusion_matrix, cmap='Reds')\n",
    "\n",
    "# Add colorbar\n",
    "cbar = ax.figure.colorbar(im, ax=ax)\n",
    "\n",
    "# Set ticks and tick labels\n",
    "ax.set_xticks(range(len(classes)))\n",
    "ax.set_yticks(range(len(classes)))\n",
    "ax.set_xticklabels(classes)\n",
    "ax.set_yticklabels(classes)\n",
    "\n",
    "# Loop over data dimensions and create text annotations.\n",
    "thresh = confusion_matrix.max() / 2.\n",
    "for i in range(len(confusion_matrix)):\n",
    "    for j in range(len(confusion_matrix[i])):\n",
    "        ax.text(j, i, format(confusion_matrix[i, j], '.0f'),\n",
    "                ha=\"center\", va=\"center\",\n",
    "                color=\"white\" if confusion_matrix[i, j] > thresh else \"black\")\n",
    "\n",
    "ax.set_title(\"Confusion Matrix\")\n",
    "ax.set_xlabel(\"Predicted label\")\n",
    "ax.set_ylabel(\"True label\")\n",
    "fig.tight_layout()\n",
    "plt.show()"
   ]
  }
 ],
 "metadata": {
  "application/vnd.databricks.v1+notebook": {
   "dashboards": [],
   "language": "python",
   "notebookMetadata": {
    "pythonIndentUnit": 2
   },
   "notebookName": "ECG5000",
   "notebookOrigID": 2572364315463075,
   "widgets": {}
  },
  "kernelspec": {
   "display_name": "big2",
   "language": "python",
   "name": "python3"
  },
  "language_info": {
   "codemirror_mode": {
    "name": "ipython",
    "version": 3
   },
   "file_extension": ".py",
   "mimetype": "text/x-python",
   "name": "python",
   "nbconvert_exporter": "python",
   "pygments_lexer": "ipython3",
   "version": "3.9.16"
  }
 },
 "nbformat": 4,
 "nbformat_minor": 0
}
